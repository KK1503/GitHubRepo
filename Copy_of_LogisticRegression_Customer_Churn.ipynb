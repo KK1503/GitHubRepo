{
  "nbformat": 4,
  "nbformat_minor": 0,
  "metadata": {
    "colab": {
      "provenance": [],
      "include_colab_link": true
    },
    "kernelspec": {
      "name": "python3",
      "display_name": "Python 3"
    },
    "language_info": {
      "name": "python"
    }
  },
  "cells": [
    {
      "cell_type": "markdown",
      "metadata": {
        "id": "view-in-github",
        "colab_type": "text"
      },
      "source": [
        "<a href=\"https://colab.research.google.com/github/KK1503/GitHubRepo/blob/main/Copy_of_LogisticRegression_Customer_Churn.ipynb\" target=\"_parent\"><img src=\"https://colab.research.google.com/assets/colab-badge.svg\" alt=\"Open In Colab\"/></a>"
      ]
    },
    {
      "cell_type": "markdown",
      "source": [
        "## Problem Statement — Telco Customer Churn Prediction\n",
        "\n",
        "###**Context & Need**\n",
        "Recurring-revenue telcos lose significant ARR to customer churn. Proactive retention (discounts, outreach, plan optimization) works only if we can **identify at-risk customers before they leave** and target them efficiently.\n",
        "\n",
        "###**Objective**\n",
        "Build a supervised classification model that predicts whether a customer will **churn** (`Churn`: Yes/No) using account, service, and billing attributes (e.g., **tenure, contract type, payment method, monthly/total charges, internet/phone services, addons**). The model’s scores will drive retention actions and offer personalization.\n",
        "\n",
        "\n",
        "###**Data**\n",
        "Input features include demographics and service/billing fields (see dataset dictionary in your code). Target is binary **churn** (Yes=1/No=0). ID fields (e.g., `customerID`) carry no signal and are excluded.\n",
        "\n"
      ],
      "metadata": {
        "id": "bOexV4XMf_l_"
      }
    },
    {
      "cell_type": "code",
      "execution_count": null,
      "metadata": {
        "id": "Bg1w4bstltXL",
        "colab": {
          "base_uri": "https://localhost:8080/",
          "height": 626
        },
        "outputId": "323f8b94-ccdf-4b4b-9bff-77270e3e523c"
      },
      "outputs": [
        {
          "output_type": "stream",
          "name": "stdout",
          "text": [
            "   customerID  gender  SeniorCitizen Partner Dependents  tenure PhoneService  \\\n",
            "0  7590-VHVEG  Female              0     Yes         No       1           No   \n",
            "1  5575-GNVDE    Male              0      No         No      34          Yes   \n",
            "2  3668-QPYBK    Male              0      No         No       2          Yes   \n",
            "3  7795-CFOCW    Male              0      No         No      45           No   \n",
            "4  9237-HQITU  Female              0      No         No       2          Yes   \n",
            "\n",
            "      MultipleLines InternetService OnlineSecurity  ... DeviceProtection  \\\n",
            "0  No phone service             DSL             No  ...               No   \n",
            "1                No             DSL            Yes  ...              Yes   \n",
            "2                No             DSL            Yes  ...               No   \n",
            "3  No phone service             DSL            Yes  ...              Yes   \n",
            "4                No     Fiber optic             No  ...               No   \n",
            "\n",
            "  TechSupport StreamingTV StreamingMovies        Contract PaperlessBilling  \\\n",
            "0          No          No              No  Month-to-month              Yes   \n",
            "1          No          No              No        One year               No   \n",
            "2          No          No              No  Month-to-month              Yes   \n",
            "3         Yes          No              No        One year               No   \n",
            "4          No          No              No  Month-to-month              Yes   \n",
            "\n",
            "               PaymentMethod MonthlyCharges  TotalCharges Churn  \n",
            "0           Electronic check          29.85         29.85    No  \n",
            "1               Mailed check          56.95        1889.5    No  \n",
            "2               Mailed check          53.85        108.15   Yes  \n",
            "3  Bank transfer (automatic)          42.30       1840.75    No  \n",
            "4           Electronic check          70.70        151.65   Yes  \n",
            "\n",
            "[5 rows x 21 columns]\n"
          ]
        },
        {
          "output_type": "execute_result",
          "data": {
            "text/plain": [
              "'\\nCustomer ID       Unique identifier for each customer\\ngender            Whether the customer is a male or a female\\nSeniorCitizen     Whether the customer is a senior citizen or not (1, 0)\\nPartner           Whether the customer has a partner or not (Yes, No)\\nDependents        Whether the customer has dependents or not (Yes, No)\\ntenure            Number of months the customer has stayed with the company\\nPhoneService      Whether the customer has a phone service or not (Yes, No)\\nMultipleLines     Whether the customer has multiple lines or not (Yes, No, No phone service)\\nInternetService   Customer’s internet service provider (DSL, Fiber optic, No)\\nOnlineSecurity    Whether the customer has online security or not (Yes, No, No internet service)\\nOnlineBackup      Whether the customer has online backup or not (Yes, No, No internet service)\\nDeviceProtection  Whether the customer has device protection or not (Yes, No, No internet service)\\nTechSupport       Whether the customer has tech support or not (Yes, No, No internet service)\\nStreamingTV       Whether the customer has streaming TV or not (Yes, No, No internet service)\\nStreamingMovies   Whether the customer has streaming movies or not (Yes, No, No internet service)\\nContract          The contract term of the customer (Month-to-month, One year, Two year)\\nPaperlessBilling  Whether the customer has paperless billing or not (Yes, No)\\nPaymentMethod     The customer’s payment method\\nMonthlyCharges    The amount charged to the customer monthly\\nTotalCharges      The total amount charged to the customer\\nChurn             Whether the customer churned or not (Yes or No)\\n'"
            ],
            "application/vnd.google.colaboratory.intrinsic+json": {
              "type": "string"
            }
          },
          "metadata": {},
          "execution_count": 1
        }
      ],
      "source": [
        "import pandas as pd\n",
        "from sklearn.model_selection import train_test_split\n",
        "from sklearn.linear_model import LogisticRegression\n",
        "from sklearn.preprocessing import LabelEncoder\n",
        "from sklearn.metrics import classification_report, confusion_matrix, roc_auc_score\n",
        "\n",
        "# Load the dataset\n",
        "data = pd.read_csv('/home/Telco-Customer-Churn.csv')  # https://drive.google.com/file/d/1j5Uxw4Qo6RAXkPP9LUFiFsD3CNXjNarG/view?usp=sharing\n",
        "\n",
        "# Preview the data\n",
        "print(data.head())\n",
        "'''\n",
        "Customer ID       Unique identifier for each customer\n",
        "gender            Whether the customer is a male or a female\n",
        "SeniorCitizen     Whether the customer is a senior citizen or not (1, 0)\n",
        "Partner           Whether the customer has a partner or not (Yes, No)\n",
        "Dependents        Whether the customer has dependents or not (Yes, No)\n",
        "tenure            Number of months the customer has stayed with the company\n",
        "PhoneService      Whether the customer has a phone service or not (Yes, No)\n",
        "MultipleLines     Whether the customer has multiple lines or not (Yes, No, No phone service)\n",
        "InternetService   Customer’s internet service provider (DSL, Fiber optic, No)\n",
        "OnlineSecurity    Whether the customer has online security or not (Yes, No, No internet service)\n",
        "OnlineBackup      Whether the customer has online backup or not (Yes, No, No internet service)\n",
        "DeviceProtection  Whether the customer has device protection or not (Yes, No, No internet service)\n",
        "TechSupport       Whether the customer has tech support or not (Yes, No, No internet service)\n",
        "StreamingTV       Whether the customer has streaming TV or not (Yes, No, No internet service)\n",
        "StreamingMovies   Whether the customer has streaming movies or not (Yes, No, No internet service)\n",
        "Contract          The contract term of the customer (Month-to-month, One year, Two year)\n",
        "PaperlessBilling  Whether the customer has paperless billing or not (Yes, No)\n",
        "PaymentMethod     The customer’s payment method\n",
        "MonthlyCharges    The amount charged to the customer monthly\n",
        "TotalCharges      The total amount charged to the customer\n",
        "Churn             Whether the customer churned or not (Yes or No)\n",
        "'''"
      ]
    },
    {
      "cell_type": "code",
      "source": [
        "# Drop customerID as it’s not useful for prediction\n",
        "data.drop('customerID', axis=1, inplace=True)\n",
        "\n",
        "# Convert target column 'Churn' to binary (Yes=1, No=0)\n",
        "data['Churn'] = data['Churn'].map({'Yes': 1, 'No': 0})\n",
        "\n",
        "# Handle categorical features using Label Encoding for simplicity\n",
        "for col in data.select_dtypes(include='object').columns:\n",
        "    data[col] = LabelEncoder().fit_transform(data[col])\n",
        "\n",
        "'''Label Encoding: convert categorical (text) data into numbers, so that machine learning models can process them.\n",
        "Why is this needed?\n",
        " - Machine learning models only understand numbers.\n",
        " - If you have text values like \"Male\" and \"Female\", you need to convert them into numeric values.\n",
        "\n",
        "Selects all columns where the data type is object (i.e., text/categorical columns).\n",
        "Converts the text categories into numeric labels for each column\n",
        "'''\n",
        "\n",
        "# Separate features and target\n",
        "X = data.drop('Churn', axis=1)\n",
        "y = data['Churn']\n"
      ],
      "metadata": {
        "id": "v04eKz0Cl0Vv"
      },
      "execution_count": null,
      "outputs": []
    },
    {
      "cell_type": "code",
      "source": [
        "X_train, X_test, y_train, y_test = train_test_split(\n",
        "    X, y, test_size=0.2, random_state=42, stratify=y\n",
        ")\n",
        "\n",
        "model = LogisticRegression(max_iter=10000)\n",
        "model.fit(X_train, y_train)\n",
        "\n",
        "\n",
        "y_pred = model.predict(X_test)\n",
        "y_proba = model.predict_proba(X_test)[:, 1]\n",
        "\n",
        "# Metrics\n",
        "print(\"Confusion Matrix:\\n\", confusion_matrix(y_test, y_pred))\n",
        "print(\"\\nClassification Report:\\n\", classification_report(y_test, y_pred))\n",
        "print(f\"ROC AUC Score: {roc_auc_score(y_test, y_proba):.2f}\")\n"
      ],
      "metadata": {
        "id": "nfPPWeZyl2Io",
        "colab": {
          "base_uri": "https://localhost:8080/"
        },
        "outputId": "bbcef2c2-f0de-4cfc-d764-3e40a90e0ea6"
      },
      "execution_count": null,
      "outputs": [
        {
          "output_type": "stream",
          "name": "stdout",
          "text": [
            "Confusion Matrix:\n",
            " [[925 110]\n",
            " [177 197]]\n",
            "\n",
            "Classification Report:\n",
            "               precision    recall  f1-score   support\n",
            "\n",
            "           0       0.84      0.89      0.87      1035\n",
            "           1       0.64      0.53      0.58       374\n",
            "\n",
            "    accuracy                           0.80      1409\n",
            "   macro avg       0.74      0.71      0.72      1409\n",
            "weighted avg       0.79      0.80      0.79      1409\n",
            "\n",
            "ROC AUC Score: 0.84\n"
          ]
        }
      ]
    }
  ]
}